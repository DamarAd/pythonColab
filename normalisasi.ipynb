{
  "nbformat": 4,
  "nbformat_minor": 0,
  "metadata": {
    "colab": {
      "name": "normalisasi.ipynb",
      "provenance": [],
      "collapsed_sections": [],
      "mount_file_id": "1zWztvd3N0jMrmflPdeDnZVIsGz5DLQQt",
      "authorship_tag": "ABX9TyNSFjA88TEeUUZPOIrXgmnE",
      "include_colab_link": true
    },
    "kernelspec": {
      "name": "python3",
      "display_name": "Python 3"
    }
  },
  "cells": [
    {
      "cell_type": "markdown",
      "metadata": {
        "id": "view-in-github",
        "colab_type": "text"
      },
      "source": [
        "<a href=\"https://colab.research.google.com/github/DamarAd/pythonColab/blob/master/normalisasi.ipynb\" target=\"_parent\"><img src=\"https://colab.research.google.com/assets/colab-badge.svg\" alt=\"Open In Colab\"/></a>"
      ]
    },
    {
      "cell_type": "code",
      "metadata": {
        "id": "f9_KehXG32R7",
        "colab_type": "code",
        "colab": {}
      },
      "source": [
        "import pandas as pd\n",
        "import numpy as np\n"
      ],
      "execution_count": 0,
      "outputs": []
    },
    {
      "cell_type": "code",
      "metadata": {
        "id": "uoafw8c99Sbr",
        "colab_type": "code",
        "colab": {}
      },
      "source": [
        "desired_width=320\n",
        "pd.set_option('display.width', desired_width)\n",
        "pd.set_option('display.max_rows', 100)\n",
        "pd.set_option('display.max_columns', 100)"
      ],
      "execution_count": 0,
      "outputs": []
    },
    {
      "cell_type": "code",
      "metadata": {
        "id": "gpbh8G0v9Yrk",
        "colab_type": "code",
        "colab": {}
      },
      "source": [
        "col_names = [\n",
        "     'destination_port', 'flow_duration ', 'total_fwd_packets', 'total_bwd_packets', 'total_length_of_fwd_packets', 'total_length_of_bwd_packets',\n",
        "    'fwd_packet_length_max', 'fwd_packet_length_min','fwd_packet_length_mean', 'fwd_packet_length_std',\n",
        "    'bwd_packet_length_max', 'bwd_packet_length_min','bwd_packet_length_mean', 'bwd_packet_length_std',\n",
        "    'flow_bytes', 'flow_packets', 'flow_iat_mean', 'flow_iat_std', 'flow_iat_max', 'flow_iat_min',\n",
        "    'fwd_iat_total', 'fwd_iat_mean', 'fwd_iat_std', 'fwd_iat_max', 'fwd_iat_min', 'bwd_iat_total', 'bwd_iat_mean',\n",
        "    'bwd_iat_std', 'bwd_iat_max', 'bwd_iat_min', 'fwd_psh_flags', 'bwd_psh_flags', 'fwd_urg_flags', 'bwd_urg_flags',\n",
        "    'fwd_header_length', 'bwd_header_length', 'fwd_packets', 'bwd_packets', 'min_packet_length', 'max_packet_length',\n",
        "    'packet_length_mean', 'packet_length_std', 'packet_length_variance', 'fin_flag_count', 'syn_flag_count',\n",
        "    'rst_flag_count', 'psh_flag_count', 'ack_flag_count', 'urg_flag_count', 'cwe_flag_count', 'ece_flag_count',\n",
        "    'down_up_ratio', 'average_packet_size', 'avg_fwd_segment_size', 'avg_bwd_segment_size', 'fwd_hd_length1', 'fwd_avg_bytes_bulk',\n",
        "    'fwd_avg_packets_bulk', 'fwd_avg_bulk_rate', 'bwd_avg_bytes_bulk', 'bwd_avg_packets_bulk', 'bwd_avg_bulk_rate',\n",
        "    'subflow_fwd_packets', 'subflow_fwd_bytes', 'subflow_bwd_packets', 'subflow_bwd_bytes', 'init_win_bytes_forward',\n",
        "    'init_win_bytes_backward', 'act_data_pkt_fwd', 'min_seg_size_forward', 'active_mean', 'active_std', 'active_max',\n",
        "    'active_min', 'idle_mean', 'idle_std', 'idle_max', 'idle_min', 'label'\n",
        "]"
      ],
      "execution_count": 0,
      "outputs": []
    },
    {
      "cell_type": "code",
      "metadata": {
        "id": "mLbMkm659cj3",
        "colab_type": "code",
        "outputId": "d4bf8af6-2fba-4de5-cc8b-3c4b3f32fcf8",
        "colab": {
          "base_uri": "https://localhost:8080/",
          "height": 1000
        }
      },
      "source": [
        "dataframe = pd.read_csv(\"Friday-WorkingHours-Afternoon-DDos.pcap_ISCX.csv\", names=col_names, skiprows = 1, low_memory=False)\n",
        "\n",
        "dataframe['flow_bytes'] = dataframe['flow_bytes'].astype(np.float64).replace(np.inf, np.nan).fillna(0)\n",
        "dataframe['flow_packets'] = dataframe['flow_packets'].astype(np.float64).replace(np.inf, np.nan).fillna(0)\n",
        "\n",
        "array = dataframe.values\n",
        "\n",
        "\n",
        "def dis(arr):\n",
        "    return pd.DataFrame(arr)\n",
        "\n",
        "print(dataframe.isna().any())\n"
      ],
      "execution_count": 22,
      "outputs": [
        {
          "output_type": "stream",
          "text": [
            "destination_port               False\n",
            "flow_duration                  False\n",
            "total_fwd_packets              False\n",
            "total_bwd_packets              False\n",
            "total_length_of_fwd_packets    False\n",
            "total_length_of_bwd_packets    False\n",
            "fwd_packet_length_max          False\n",
            "fwd_packet_length_min          False\n",
            "fwd_packet_length_mean         False\n",
            "fwd_packet_length_std          False\n",
            "bwd_packet_length_max          False\n",
            "bwd_packet_length_min          False\n",
            "bwd_packet_length_mean         False\n",
            "bwd_packet_length_std          False\n",
            "flow_bytes                     False\n",
            "flow_packets                   False\n",
            "flow_iat_mean                  False\n",
            "flow_iat_std                   False\n",
            "flow_iat_max                   False\n",
            "flow_iat_min                   False\n",
            "fwd_iat_total                  False\n",
            "fwd_iat_mean                   False\n",
            "fwd_iat_std                    False\n",
            "fwd_iat_max                    False\n",
            "fwd_iat_min                    False\n",
            "bwd_iat_total                  False\n",
            "bwd_iat_mean                   False\n",
            "bwd_iat_std                    False\n",
            "bwd_iat_max                    False\n",
            "bwd_iat_min                    False\n",
            "fwd_psh_flags                  False\n",
            "bwd_psh_flags                  False\n",
            "fwd_urg_flags                  False\n",
            "bwd_urg_flags                  False\n",
            "fwd_header_length              False\n",
            "bwd_header_length              False\n",
            "fwd_packets                    False\n",
            "bwd_packets                    False\n",
            "min_packet_length              False\n",
            "max_packet_length              False\n",
            "packet_length_mean             False\n",
            "packet_length_std              False\n",
            "packet_length_variance         False\n",
            "fin_flag_count                 False\n",
            "syn_flag_count                 False\n",
            "rst_flag_count                 False\n",
            "psh_flag_count                 False\n",
            "ack_flag_count                 False\n",
            "urg_flag_count                 False\n",
            "cwe_flag_count                 False\n",
            "ece_flag_count                 False\n",
            "down_up_ratio                  False\n",
            "average_packet_size            False\n",
            "avg_fwd_segment_size           False\n",
            "avg_bwd_segment_size           False\n",
            "fwd_hd_length1                 False\n",
            "fwd_avg_bytes_bulk             False\n",
            "fwd_avg_packets_bulk           False\n",
            "fwd_avg_bulk_rate              False\n",
            "bwd_avg_bytes_bulk             False\n",
            "bwd_avg_packets_bulk           False\n",
            "bwd_avg_bulk_rate              False\n",
            "subflow_fwd_packets            False\n",
            "subflow_fwd_bytes              False\n",
            "subflow_bwd_packets            False\n",
            "subflow_bwd_bytes              False\n",
            "init_win_bytes_forward         False\n",
            "init_win_bytes_backward        False\n",
            "act_data_pkt_fwd               False\n",
            "min_seg_size_forward           False\n",
            "active_mean                    False\n",
            "active_std                     False\n",
            "active_max                     False\n",
            "active_min                     False\n",
            "idle_mean                      False\n",
            "idle_std                       False\n",
            "idle_max                       False\n",
            "idle_min                       False\n",
            "label                          False\n",
            "dtype: bool\n"
          ],
          "name": "stdout"
        }
      ]
    },
    {
      "cell_type": "code",
      "metadata": {
        "id": "97BiXHqfubU6",
        "colab_type": "code",
        "colab": {}
      },
      "source": [
        "print(dataframe.isna().any())"
      ],
      "execution_count": 0,
      "outputs": []
    },
    {
      "cell_type": "code",
      "metadata": {
        "id": "nH6pqPQ0EqoK",
        "colab_type": "code",
        "colab": {}
      },
      "source": [
        "dataframe['label']"
      ],
      "execution_count": 0,
      "outputs": []
    },
    {
      "cell_type": "code",
      "metadata": {
        "id": "uVecvmHx9rkq",
        "colab_type": "code",
        "colab": {}
      },
      "source": [
        "X = array[:,:]\n",
        "Y = array[:,78]\n",
        "\n",
        "\n",
        "#normalization of categoric atribute\n",
        "from sklearn.preprocessing import LabelEncoder\n",
        "encode = LabelEncoder()\n",
        "\n",
        "rescaledY =  encode.fit_transform(Y)"
      ],
      "execution_count": 0,
      "outputs": []
    },
    {
      "cell_type": "code",
      "metadata": {
        "id": "myWeicNcTb-U",
        "colab_type": "code",
        "colab": {}
      },
      "source": [
        "print(dis(rescaledY))"
      ],
      "execution_count": 0,
      "outputs": []
    },
    {
      "cell_type": "code",
      "metadata": {
        "id": "K0gzezuPDjBq",
        "colab_type": "code",
        "colab": {}
      },
      "source": [
        "#normalization of numeric atribute\n",
        "from sklearn.preprocessing import StandardScaler\n",
        "scaler = StandardScaler()\n",
        "rescaledX = scaler.fit_transform(X)\n",
        "# summarize transformed data\n",
        "#np.set_printoptions(precision=3)\n",
        "print(\"SEBELUM NORMALISASI \\n\" , dis(X).head())\n",
        "print(\"\\n\")\n",
        "print(\"SESUDAH NORMALISASI \\n\" , dis(rescaledX).head())\n"
      ],
      "execution_count": 0,
      "outputs": []
    },
    {
      "cell_type": "code",
      "metadata": {
        "id": "_w7KaqVGISYG",
        "colab_type": "code",
        "colab": {}
      },
      "source": [
        "'''from sklearn.preprocessing import MinMaxScaler\n",
        "scaler = MinMaxScaler(feature_range=(0, 1))\n",
        "rescaledX = scaler.fit_transform(X)\n",
        "# summarize transformed data\n",
        "#np.set_printoptions(precision=3)\n",
        "print(\"SEBELUM NORMALISASI \\n\" , dis(X).head())\n",
        "print(\"\\n\")\n",
        "print(\"SESUDAH NORMALISASI \\n\" , dis(rescaledX).head())'''"
      ],
      "execution_count": 0,
      "outputs": []
    }
  ]
}